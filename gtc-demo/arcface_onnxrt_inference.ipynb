{
 "cells": [
  {
   "cell_type": "markdown",
   "metadata": {},
   "source": [
    "# Inference Demo for ArcFace models\n",
    "\n",
    "## Overview\n",
    "This notebook can be used for inference on ArcFace ONNX models. The demo shows how to use the trained models to do inference in MXNet.\n",
    "\n",
    "## Models supported\n",
    "* LResNet100E-IR (ResNet100 backend with ArcFace loss)\n",
    "\n",
    "## Prerequisites\n",
    "The following packages need to be installed before proceeding:\n",
    "* Protobuf compiler - `sudo apt-get install protobuf-compiler libprotoc-dev` (required for ONNX. This will work for any linux system. For detailed installation guidelines head over to [ONNX documentation](https://github.com/onnx/onnx#installation))\n",
    "* ONNX - `pip install onnx`\n",
    "* numpy - `pip install numpy`\n",
    "* matplotlib - `pip install matplotlib`\n",
    "* OpenCV - `pip install opencv-python`\n",
    "* Scikit-learn - `pip install scikit-learn`\n",
    "* EasyDict - `pip install easydict`\n",
    "* Scikit-image - `pip install scikit-image`\n",
    "\n",
    "Also the following scripts and folders (included in the repo) must be present in the same folder as this notebook:\n",
    "* `mtcnn_detector.py` (Performs face detection as a part of preprocessing)\n",
    "* `helper.py` (helper script for face detection)\n",
    "\n",
    "In order to do inference with a python script:\n",
    "* Generate the script : In Jupyter Notebook browser, go to File -> Download as -> Python (.py)\n",
    "* Run the script: `python arcface_inference.py`"
   ]
  },
  {
   "cell_type": "markdown",
   "metadata": {},
   "source": [
    "### Import dependencies\n",
    "Verify that all dependencies are installed using the cell below. Continue if no errors encountered, warnings can be ignored."
   ]
  },
  {
   "cell_type": "code",
   "execution_count": 4,
   "metadata": {},
   "outputs": [
    {
     "name": "stdout",
     "output_type": "stream",
     "text": [
      "Collecting mxnet-cu90mkl\n",
      "  Downloading https://files.pythonhosted.org/packages/53/50/c034f7fd80a9ddbde8a30caabebd506273bc88f4d031099d4df7a677af6f/mxnet_cu90mkl-1.4.0-py2.py3-none-win_amd64.whl (304.0MB)\n",
      "Collecting numpy<1.15.0,>=1.8.2 (from mxnet-cu90mkl)\n",
      "  Downloading https://files.pythonhosted.org/packages/dc/99/f824a73251589d9fcef2384f9dd21bd1601597fda92ced5882940586ec37/numpy-1.14.6-cp36-none-win_amd64.whl (13.4MB)\n",
      "Requirement already satisfied: graphviz<0.9.0,>=0.8.1 in c:\\users\\viswamy\\programdata\\anaconda3\\lib\\site-packages (from mxnet-cu90mkl) (0.8.4)\n",
      "Requirement already satisfied: requests<2.19.0,>=2.18.4 in c:\\users\\viswamy\\programdata\\anaconda3\\lib\\site-packages (from mxnet-cu90mkl) (2.18.4)\n",
      "Requirement already satisfied: chardet<3.1.0,>=3.0.2 in c:\\users\\viswamy\\programdata\\anaconda3\\lib\\site-packages (from requests<2.19.0,>=2.18.4->mxnet-cu90mkl) (3.0.4)\n",
      "Requirement already satisfied: idna<2.7,>=2.5 in c:\\users\\viswamy\\programdata\\anaconda3\\lib\\site-packages (from requests<2.19.0,>=2.18.4->mxnet-cu90mkl) (2.6)\n",
      "Requirement already satisfied: urllib3<1.23,>=1.21.1 in c:\\users\\viswamy\\programdata\\anaconda3\\lib\\site-packages (from requests<2.19.0,>=2.18.4->mxnet-cu90mkl) (1.22)\n",
      "Requirement already satisfied: certifi>=2017.4.17 in c:\\users\\viswamy\\programdata\\anaconda3\\lib\\site-packages (from requests<2.19.0,>=2.18.4->mxnet-cu90mkl) (2018.4.16)\n",
      "Installing collected packages: numpy, mxnet-cu90mkl\n",
      "  Found existing installation: numpy 1.16.2\n",
      "    Uninstalling numpy-1.16.2:\n",
      "      Successfully uninstalled numpy-1.16.2\n"
     ]
    },
    {
     "name": "stderr",
     "output_type": "stream",
     "text": [
      "Could not install packages due to an EnvironmentError: [WinError 5] Access is denied: 'c:\\\\users\\\\viswamy\\\\programdata\\\\anaconda3\\\\lib\\\\site-packages\\\\~-mpy\\\\.libs\\\\libopenblas.IPBC74C7KURV7CB2PKT5Z5FNR3SIBV4J.gfortran-win_amd64.dll'\n",
      "Consider using the `--user` option or check the permissions.\n",
      "\n"
     ]
    }
   ],
   "source": [
    "!pip install mxnet-cu90mkl"
   ]
  },
  {
   "cell_type": "code",
   "execution_count": 3,
   "metadata": {},
   "outputs": [
    {
     "ename": "AttributeError",
     "evalue": "module 'mxnet' has no attribute 'cpu'",
     "output_type": "error",
     "traceback": [
      "\u001b[1;31m---------------------------------------------------------------------------\u001b[0m",
      "\u001b[1;31mAttributeError\u001b[0m                            Traceback (most recent call last)",
      "\u001b[1;32m<ipython-input-3-277aeb6dc29b>\u001b[0m in \u001b[0;36m<module>\u001b[1;34m()\u001b[0m\n\u001b[0;32m     14\u001b[0m \u001b[1;32mfrom\u001b[0m \u001b[0mtime\u001b[0m \u001b[1;32mimport\u001b[0m \u001b[0msleep\u001b[0m\u001b[1;33m\u001b[0m\u001b[0m\n\u001b[0;32m     15\u001b[0m \u001b[1;32mfrom\u001b[0m \u001b[0measydict\u001b[0m \u001b[1;32mimport\u001b[0m \u001b[0mEasyDict\u001b[0m \u001b[1;32mas\u001b[0m \u001b[0medict\u001b[0m\u001b[1;33m\u001b[0m\u001b[0m\n\u001b[1;32m---> 16\u001b[1;33m \u001b[1;32mfrom\u001b[0m \u001b[0mmtcnn_detector\u001b[0m \u001b[1;32mimport\u001b[0m \u001b[0mMtcnnDetector\u001b[0m\u001b[1;33m\u001b[0m\u001b[0m\n\u001b[0m\u001b[0;32m     17\u001b[0m \u001b[1;32mfrom\u001b[0m \u001b[0mskimage\u001b[0m \u001b[1;32mimport\u001b[0m \u001b[0mtransform\u001b[0m \u001b[1;32mas\u001b[0m \u001b[0mtrans\u001b[0m\u001b[1;33m\u001b[0m\u001b[0m\n\u001b[0;32m     18\u001b[0m \u001b[1;32mimport\u001b[0m \u001b[0mmatplotlib\u001b[0m\u001b[1;33m.\u001b[0m\u001b[0mpyplot\u001b[0m \u001b[1;32mas\u001b[0m \u001b[0mplt\u001b[0m\u001b[1;33m\u001b[0m\u001b[0m\n",
      "\u001b[1;32m~\\Desktop\\models\\models\\face_recognition\\ArcFace\\mtcnn_detector.py\u001b[0m in \u001b[0;36m<module>\u001b[1;34m()\u001b[0m\n\u001b[0;32m     13\u001b[0m     \u001b[1;32mpass\u001b[0m\u001b[1;33m\u001b[0m\u001b[0m\n\u001b[0;32m     14\u001b[0m \u001b[1;33m\u001b[0m\u001b[0m\n\u001b[1;32m---> 15\u001b[1;33m \u001b[1;32mclass\u001b[0m \u001b[0mMtcnnDetector\u001b[0m\u001b[1;33m(\u001b[0m\u001b[0mobject\u001b[0m\u001b[1;33m)\u001b[0m\u001b[1;33m:\u001b[0m\u001b[1;33m\u001b[0m\u001b[0m\n\u001b[0m\u001b[0;32m     16\u001b[0m     \"\"\"\n\u001b[0;32m     17\u001b[0m         \u001b[0mJoint\u001b[0m \u001b[0mFace\u001b[0m \u001b[0mDetection\u001b[0m \u001b[1;32mand\u001b[0m \u001b[0mAlignment\u001b[0m \u001b[0musing\u001b[0m \u001b[0mMulti\u001b[0m\u001b[1;33m-\u001b[0m\u001b[0mtask\u001b[0m \u001b[0mCascaded\u001b[0m \u001b[0mConvolutional\u001b[0m \u001b[0mNeural\u001b[0m \u001b[0mNetworks\u001b[0m\u001b[1;33m\u001b[0m\u001b[0m\n",
      "\u001b[1;32m~\\Desktop\\models\\models\\face_recognition\\ArcFace\\mtcnn_detector.py\u001b[0m in \u001b[0;36mMtcnnDetector\u001b[1;34m()\u001b[0m\n\u001b[0;32m     26\u001b[0m                  \u001b[0mnum_worker\u001b[0m \u001b[1;33m=\u001b[0m \u001b[1;36m1\u001b[0m\u001b[1;33m,\u001b[0m\u001b[1;33m\u001b[0m\u001b[0m\n\u001b[0;32m     27\u001b[0m                  \u001b[0maccurate_landmark\u001b[0m \u001b[1;33m=\u001b[0m \u001b[1;32mFalse\u001b[0m\u001b[1;33m,\u001b[0m\u001b[1;33m\u001b[0m\u001b[0m\n\u001b[1;32m---> 28\u001b[1;33m                  ctx=mx.cpu()):\n\u001b[0m\u001b[0;32m     29\u001b[0m         \"\"\"\n\u001b[0;32m     30\u001b[0m             \u001b[0mInitialize\u001b[0m \u001b[0mthe\u001b[0m \u001b[0mdetector\u001b[0m\u001b[1;33m\u001b[0m\u001b[0m\n",
      "\u001b[1;31mAttributeError\u001b[0m: module 'mxnet' has no attribute 'cpu'"
     ]
    }
   ],
   "source": [
    "import cv2\n",
    "import sys\n",
    "import numpy as np\n",
    "import mxnet as mx\n",
    "import os\n",
    "from __future__ import absolute_import\n",
    "from __future__ import division\n",
    "from __future__ import print_function\n",
    "\n",
    "from scipy import misc\n",
    "import random\n",
    "import sklearn\n",
    "from sklearn.decomposition import PCA\n",
    "from time import sleep\n",
    "from easydict import EasyDict as edict\n",
    "from mtcnn_detector import MtcnnDetector\n",
    "from skimage import transform as trans\n",
    "import matplotlib.pyplot as plt\n",
    "from mxnet.contrib.onnx.onnx2mx.import_model import import_model\n",
    "import onnxruntime"
   ]
  },
  {
   "cell_type": "markdown",
   "metadata": {},
   "source": [
    "### Face detector & alignment\n",
    "A pretrained face detection & alignment model [MTCNN detector](https://kpzhang93.github.io/MTCNN_face_detection_alignment/index.html) is used here as a part of the preprocessing step. The input image is passed through the detector to obtain an aligned image of the face in the input. The pretrained models reside in the folder `mtcnn-model` and the scripts `mtcnn_detector.py` and `helper.py` contain code for doing inference on those models."
   ]
  },
  {
   "cell_type": "markdown",
   "metadata": {},
   "source": [
    "### Download pre-trained face detection models"
   ]
  },
  {
   "cell_type": "code",
   "execution_count": 2,
   "metadata": {},
   "outputs": [
    {
     "ename": "AttributeError",
     "evalue": "module 'mxnet' has no attribute 'test_utils'",
     "output_type": "error",
     "traceback": [
      "\u001b[1;31m---------------------------------------------------------------------------\u001b[0m",
      "\u001b[1;31mAttributeError\u001b[0m                            Traceback (most recent call last)",
      "\u001b[1;32m<ipython-input-2-81e38e88756e>\u001b[0m in \u001b[0;36m<module>\u001b[1;34m()\u001b[0m\n\u001b[0;32m      1\u001b[0m \u001b[1;32mfor\u001b[0m \u001b[0mi\u001b[0m \u001b[1;32min\u001b[0m \u001b[0mrange\u001b[0m\u001b[1;33m(\u001b[0m\u001b[1;36m4\u001b[0m\u001b[1;33m)\u001b[0m\u001b[1;33m:\u001b[0m\u001b[1;33m\u001b[0m\u001b[0m\n\u001b[1;32m----> 2\u001b[1;33m     \u001b[0mmx\u001b[0m\u001b[1;33m.\u001b[0m\u001b[0mtest_utils\u001b[0m\u001b[1;33m.\u001b[0m\u001b[0mdownload\u001b[0m\u001b[1;33m(\u001b[0m\u001b[0mdirname\u001b[0m\u001b[1;33m=\u001b[0m\u001b[1;34m'mtcnn-model'\u001b[0m\u001b[1;33m,\u001b[0m \u001b[0murl\u001b[0m\u001b[1;33m=\u001b[0m\u001b[1;34m'https://s3.amazonaws.com/onnx-model-zoo/arcface/mtcnn-model/det{}-0001.params'\u001b[0m\u001b[1;33m.\u001b[0m\u001b[0mformat\u001b[0m\u001b[1;33m(\u001b[0m\u001b[0mi\u001b[0m\u001b[1;33m+\u001b[0m\u001b[1;36m1\u001b[0m\u001b[1;33m)\u001b[0m\u001b[1;33m)\u001b[0m\u001b[1;33m\u001b[0m\u001b[0m\n\u001b[0m\u001b[0;32m      3\u001b[0m     \u001b[0mmx\u001b[0m\u001b[1;33m.\u001b[0m\u001b[0mtest_utils\u001b[0m\u001b[1;33m.\u001b[0m\u001b[0mdownload\u001b[0m\u001b[1;33m(\u001b[0m\u001b[0mdirname\u001b[0m\u001b[1;33m=\u001b[0m\u001b[1;34m'mtcnn-model'\u001b[0m\u001b[1;33m,\u001b[0m \u001b[0murl\u001b[0m\u001b[1;33m=\u001b[0m\u001b[1;34m'https://s3.amazonaws.com/onnx-model-zoo/arcface/mtcnn-model/det{}-symbol.json'\u001b[0m\u001b[1;33m.\u001b[0m\u001b[0mformat\u001b[0m\u001b[1;33m(\u001b[0m\u001b[0mi\u001b[0m\u001b[1;33m+\u001b[0m\u001b[1;36m1\u001b[0m\u001b[1;33m)\u001b[0m\u001b[1;33m)\u001b[0m\u001b[1;33m\u001b[0m\u001b[0m\n\u001b[0;32m      4\u001b[0m     \u001b[0mmx\u001b[0m\u001b[1;33m.\u001b[0m\u001b[0mtest_utils\u001b[0m\u001b[1;33m.\u001b[0m\u001b[0mdownload\u001b[0m\u001b[1;33m(\u001b[0m\u001b[0mdirname\u001b[0m\u001b[1;33m=\u001b[0m\u001b[1;34m'mtcnn-model'\u001b[0m\u001b[1;33m,\u001b[0m \u001b[0murl\u001b[0m\u001b[1;33m=\u001b[0m\u001b[1;34m'https://s3.amazonaws.com/onnx-model-zoo/arcface/mtcnn-model/det{}.caffemodel'\u001b[0m\u001b[1;33m.\u001b[0m\u001b[0mformat\u001b[0m\u001b[1;33m(\u001b[0m\u001b[0mi\u001b[0m\u001b[1;33m+\u001b[0m\u001b[1;36m1\u001b[0m\u001b[1;33m)\u001b[0m\u001b[1;33m)\u001b[0m\u001b[1;33m\u001b[0m\u001b[0m\n\u001b[0;32m      5\u001b[0m     \u001b[0mmx\u001b[0m\u001b[1;33m.\u001b[0m\u001b[0mtest_utils\u001b[0m\u001b[1;33m.\u001b[0m\u001b[0mdownload\u001b[0m\u001b[1;33m(\u001b[0m\u001b[0mdirname\u001b[0m\u001b[1;33m=\u001b[0m\u001b[1;34m'mtcnn-model'\u001b[0m\u001b[1;33m,\u001b[0m \u001b[0murl\u001b[0m\u001b[1;33m=\u001b[0m\u001b[1;34m'https://s3.amazonaws.com/onnx-model-zoo/arcface/mtcnn-model/det{}.prototxt'\u001b[0m\u001b[1;33m.\u001b[0m\u001b[0mformat\u001b[0m\u001b[1;33m(\u001b[0m\u001b[0mi\u001b[0m\u001b[1;33m+\u001b[0m\u001b[1;36m1\u001b[0m\u001b[1;33m)\u001b[0m\u001b[1;33m)\u001b[0m\u001b[1;33m\u001b[0m\u001b[0m\n",
      "\u001b[1;31mAttributeError\u001b[0m: module 'mxnet' has no attribute 'test_utils'"
     ]
    }
   ],
   "source": [
    "for i in range(4):\n",
    "    mx.test_utils.download(dirname='mtcnn-model', url='https://s3.amazonaws.com/onnx-model-zoo/arcface/mtcnn-model/det{}-0001.params'.format(i+1))\n",
    "    mx.test_utils.download(dirname='mtcnn-model', url='https://s3.amazonaws.com/onnx-model-zoo/arcface/mtcnn-model/det{}-symbol.json'.format(i+1))\n",
    "    mx.test_utils.download(dirname='mtcnn-model', url='https://s3.amazonaws.com/onnx-model-zoo/arcface/mtcnn-model/det{}.caffemodel'.format(i+1))\n",
    "    mx.test_utils.download(dirname='mtcnn-model', url='https://s3.amazonaws.com/onnx-model-zoo/arcface/mtcnn-model/det{}.prototxt'.format(i+1))"
   ]
  },
  {
   "cell_type": "markdown",
   "metadata": {},
   "source": [
    "### Configure face detection model for preprocessing"
   ]
  },
  {
   "cell_type": "code",
   "execution_count": null,
   "metadata": {},
   "outputs": [],
   "source": [
    "# Determine and set context\n",
    "if len(mx.test_utils.list_gpus())==0:\n",
    "    ctx = mx.cpu()\n",
    "else:\n",
    "    ctx = mx.gpu(0)\n",
    "# Configure face detector\n",
    "det_threshold = [0.6,0.7,0.8]\n",
    "mtcnn_path = os.path.join(os.path.dirname('__file__'), 'mtcnn-model')\n",
    "detector = MtcnnDetector(model_folder=mtcnn_path, ctx=ctx, num_worker=1, accurate_landmark = True, threshold=det_threshold)"
   ]
  },
  {
   "cell_type": "markdown",
   "metadata": {},
   "source": [
    "### Preprocess images\n",
    "\n",
    "In order to input only face pixels into the network, all input images are passed through a pretrained face detection and alignment model as described above. The output of this model are landmark points and a bounding box corresponding to the face in the image. Using this output, the image is processed using affine transforms to generate the aligned face images which are input to the network. The functions performing this is defined below.\n",
    "\n",
    "`preprocess()` : Takes output of face detector (bounding box and landmark points for face in the image) as input and generates aligned face images\n",
    "\n",
    "`get_input()` : Passes input images through the face detector, and returns aligned face images generated by `preprocess()`"
   ]
  },
  {
   "cell_type": "code",
   "execution_count": null,
   "metadata": {},
   "outputs": [],
   "source": [
    "def preprocess(img, bbox=None, landmark=None, **kwargs):\n",
    "    M = None\n",
    "    image_size = []\n",
    "    str_image_size = kwargs.get('image_size', '')\n",
    "    # Assert input shape\n",
    "    if len(str_image_size)>0:\n",
    "        image_size = [int(x) for x in str_image_size.split(',')]\n",
    "        if len(image_size)==1:\n",
    "            image_size = [image_size[0], image_size[0]]\n",
    "        assert len(image_size)==2\n",
    "        assert image_size[0]==112\n",
    "        assert image_size[0]==112 or image_size[1]==96\n",
    "    \n",
    "    # Do alignment using landmark points\n",
    "    if landmark is not None:\n",
    "        assert len(image_size)==2\n",
    "        src = np.array([\n",
    "          [30.2946, 51.6963],\n",
    "          [65.5318, 51.5014],\n",
    "          [48.0252, 71.7366],\n",
    "          [33.5493, 92.3655],\n",
    "          [62.7299, 92.2041] ], dtype=np.float32 )\n",
    "        if image_size[1]==112:\n",
    "            src[:,0] += 8.0\n",
    "        dst = landmark.astype(np.float32)\n",
    "        tform = trans.SimilarityTransform()\n",
    "        tform.estimate(dst, src)\n",
    "        M = tform.params[0:2,:]\n",
    "        assert len(image_size)==2\n",
    "        warped = cv2.warpAffine(img,M,(image_size[1],image_size[0]), borderValue = 0.0)\n",
    "        return warped\n",
    "    \n",
    "    # If no landmark points available, do alignment using bounding box. If no bounding box available use center crop\n",
    "    if M is None:\n",
    "        if bbox is None:\n",
    "            det = np.zeros(4, dtype=np.int32)\n",
    "            det[0] = int(img.shape[1]*0.0625)\n",
    "            det[1] = int(img.shape[0]*0.0625)\n",
    "            det[2] = img.shape[1] - det[0]\n",
    "            det[3] = img.shape[0] - det[1]\n",
    "        else:\n",
    "            det = bbox\n",
    "        margin = kwargs.get('margin', 44)\n",
    "        bb = np.zeros(4, dtype=np.int32)\n",
    "        bb[0] = np.maximum(det[0]-margin/2, 0)\n",
    "        bb[1] = np.maximum(det[1]-margin/2, 0)\n",
    "        bb[2] = np.minimum(det[2]+margin/2, img.shape[1])\n",
    "        bb[3] = np.minimum(det[3]+margin/2, img.shape[0])\n",
    "        ret = img[bb[1]:bb[3],bb[0]:bb[2],:]\n",
    "        if len(image_size)>0:\n",
    "            ret = cv2.resize(ret, (image_size[1], image_size[0]))\n",
    "        return ret\n",
    "    \n",
    "def get_input(detector,face_img):\n",
    "    # Pass input images through face detector\n",
    "    ret = detector.detect_face(face_img, det_type = 0)\n",
    "    if ret is None:\n",
    "        return None\n",
    "    bbox, points = ret\n",
    "    if bbox.shape[0]==0:\n",
    "        return None\n",
    "    bbox = bbox[0,0:4]\n",
    "    points = points[0,:].reshape((2,5)).T\n",
    "    # Call preprocess() to generate aligned images\n",
    "    nimg = preprocess(face_img, bbox, points, image_size='112,112')\n",
    "    nimg = cv2.cvtColor(nimg, cv2.COLOR_BGR2RGB)\n",
    "    aligned = np.transpose(nimg, (2,0,1))\n",
    "    return aligned"
   ]
  },
  {
   "cell_type": "markdown",
   "metadata": {},
   "source": [
    "### Predict\n",
    "`get_feature()` : Performs forward pass on the data `aligned` using `model` and returns the embedding"
   ]
  },
  {
   "cell_type": "code",
   "execution_count": null,
   "metadata": {},
   "outputs": [],
   "source": [
    "def get_feature(model_sess, aligned):\n",
    "    input_blob = np.array(np.expand_dims(aligned, axis=0))\n",
    "    input_name = model_sess.get_inputs()[0].name\n",
    "    output_name = model_sess.get_outputs()[0].name\n",
    "    embedding = model_sess.run(output_name, {input_name: input_blob})\n",
    "    embedding = sklearn.preprocessing.normalize(embedding).flatten()\n",
    "    return embedding"
   ]
  },
  {
   "cell_type": "markdown",
   "metadata": {},
   "source": [
    "### Download input images and prepare ONNX model"
   ]
  },
  {
   "cell_type": "code",
   "execution_count": null,
   "metadata": {},
   "outputs": [],
   "source": [
    "# Download first image\n",
    "mx.test_utils.download('https://s3.amazonaws.com/onnx-model-zoo/arcface/player1.jpg')\n",
    "# Download second image\n",
    "mx.test_utils.download('https://s3.amazonaws.com/onnx-model-zoo/arcface/player2.jpg')\n",
    "# Download onnx model\n",
    "mx.test_utils.download('https://s3.amazonaws.com/onnx-model-zoo/arcface/resnet100.onnx')\n",
    "# Path to ONNX model\n",
    "model_name = 'resnet100.onnx'"
   ]
  },
  {
   "cell_type": "code",
   "execution_count": null,
   "metadata": {},
   "outputs": [],
   "source": [
    "# Load ONNX model\n",
    "import onnxruntime as rt\n",
    "sess = rt.InferenceSession(model_name)\n",
    "print(\"input shape: \", sess.get_inputs()[0].shape)"
   ]
  },
  {
   "cell_type": "markdown",
   "metadata": {},
   "source": [
    "### Generate predictions\n",
    "Two face images are passed through the network sequentially to generate embedding vectors for each. The squared distance and cosine similarity between the embedding vectors are computed and displayed. Images containing face of a single person will have low distance and high similarity and vice-versa. The distance values are in [0,4) and similarity values in [-1,1]."
   ]
  },
  {
   "cell_type": "code",
   "execution_count": null,
   "metadata": {},
   "outputs": [],
   "source": [
    "# Load first image\n",
    "img1 = cv2.imread('player1.jpg')\n",
    "# Display first image\n",
    "plt.imshow(cv2.cvtColor(img1,cv2.COLOR_BGR2RGB))\n",
    "plt.show()"
   ]
  },
  {
   "cell_type": "code",
   "execution_count": null,
   "metadata": {},
   "outputs": [],
   "source": [
    "# Preprocess first image\n",
    "pre1 = get_input(detector,img1)\n",
    "# Display preprocessed image\n",
    "plt.imshow(np.transpose(pre1,(1,2,0)))\n",
    "plt.show()"
   ]
  },
  {
   "cell_type": "code",
   "execution_count": null,
   "metadata": {},
   "outputs": [],
   "source": [
    "# Get embedding of first image\n",
    "out1 = get_feature(sess, pre1)"
   ]
  },
  {
   "cell_type": "code",
   "execution_count": null,
   "metadata": {},
   "outputs": [],
   "source": [
    "# Load second image\n",
    "img2 = cv2.imread('player2.jpg')\n",
    "# Display second image\n",
    "plt.imshow(cv2.cvtColor(img2,cv2.COLOR_BGR2RGB))\n",
    "plt.show()"
   ]
  },
  {
   "cell_type": "code",
   "execution_count": null,
   "metadata": {},
   "outputs": [],
   "source": [
    "# Preprocess second image\n",
    "pre2 = get_input(detector,img2)\n",
    "# Display preprocessed image\n",
    "plt.imshow(np.transpose(pre2,(1,2,0)))\n",
    "plt.show()\n",
    "# Get embedding of second image\n",
    "out2 = get_feature(sess,pre2)"
   ]
  },
  {
   "cell_type": "code",
   "execution_count": null,
   "metadata": {},
   "outputs": [],
   "source": [
    "# Compute squared distance between embeddings\n",
    "dist = np.sum(np.square(out1-out2))\n",
    "# Compute cosine similarity between embedddings\n",
    "sim = np.dot(out1, out2.T)\n",
    "# Print predictions\n",
    "print('Distance = %f' %(dist))\n",
    "print('Similarity = %f' %(sim))"
   ]
  },
  {
   "cell_type": "code",
   "execution_count": null,
   "metadata": {},
   "outputs": [],
   "source": []
  }
 ],
 "metadata": {
  "kernelspec": {
   "display_name": "Python 3",
   "language": "python",
   "name": "python3"
  },
  "language_info": {
   "codemirror_mode": {
    "name": "ipython",
    "version": 3
   },
   "file_extension": ".py",
   "mimetype": "text/x-python",
   "name": "python",
   "nbconvert_exporter": "python",
   "pygments_lexer": "ipython3",
   "version": "3.6.5"
  }
 },
 "nbformat": 4,
 "nbformat_minor": 2
}
